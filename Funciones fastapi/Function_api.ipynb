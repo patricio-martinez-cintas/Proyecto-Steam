{
 "cells": [
  {
   "cell_type": "code",
   "execution_count": 1,
   "metadata": {},
   "outputs": [],
   "source": [
    "import pandas as pd\n",
    "import random\n",
    "import numpy as np"
   ]
  },
  {
   "cell_type": "code",
   "execution_count": 2,
   "metadata": {},
   "outputs": [],
   "source": [
    "user_items_final = pd.read_parquet(\"../Datasets_final/user_items_final.parquet.gz\")\n",
    "steam_games_final = pd.read_parquet(\"../Datasets_final/steam_games_final.parquet.gz\")\n",
    "user_reviews_final = pd.read_parquet(\"../Datasets_final/user_reviews_final.parquet.gz\")"
   ]
  },
  {
   "cell_type": "markdown",
   "metadata": {},
   "source": [
    "-------------------------"
   ]
  },
  {
   "cell_type": "markdown",
   "metadata": {},
   "source": [
    "# Función developer"
   ]
  },
  {
   "cell_type": "code",
   "execution_count": 3,
   "metadata": {},
   "outputs": [],
   "source": [
    "def developer(desarrollador: str):\n",
    "    \"\"\"Esta función devuelve un diccionario con la cantidad de items por año y el porcentaje de juegos free que hay en cada año. Recibe como parámetro el desarrollador en formato str.\"\"\"\n",
    "    unique_developers = steam_games_final['developer'].dropna().unique()\n",
    "\n",
    "    if desarrollador in unique_developers:\n",
    "        # Filtramos el DF por developer seleccionado y nos quedamos con las columnas 'releace_year' y 'price', borrando los nulos que haya en 'price':\n",
    "        df_selected = steam_games_final.loc[steam_games_final[\"developer\"] == desarrollador, [\"release_year\", \"price\"]].dropna(subset=[\"price\"])\n",
    "\n",
    "        # Calculamos la cantidad total de items y free items por año\n",
    "        df_summary = df_selected.assign(free_items=(df_selected['price'] == 0.00).astype(int)).groupby('release_year').agg(quantity_total=('price', 'count'), free_items=('free_items', 'sum')).reset_index()\n",
    "\n",
    "        # Calculamos el porcentaje de juegos free por año\n",
    "        df_summary['free_per_year'] = (df_summary['free_items'] * 100 / df_summary['quantity_total']).round(2).astype(str) + '%'\n",
    "\n",
    "        # Ordenamos por año y seleccionar las columnas necesarias para el resultado final\n",
    "        resultado_df = df_summary.sort_values(by='release_year').reset_index(drop=True)[[\"release_year\", \"quantity_total\", \"free_per_year\"]].rename(columns={\"release_year\": \"Año\", \"quantity_total\": \"Cantidad de items\", \"free_per_year\": \"Contenido free\"})\n",
    "\n",
    "        # Finalmente convertimos el DF a un diccionario\n",
    "        resultado_dict = resultado_df.to_dict(orient='records')\n",
    "\n",
    "        return resultado_dict\n",
    "    else:\n",
    "        return f\"El valor del parámetro debe ser str y el desarrollador debe ser alguno de los desarrolladores disponibles en Steam. Las desarrolladoras disponibles son: {', '.join(unique_developers)}\""
   ]
  },
  {
   "cell_type": "markdown",
   "metadata": {},
   "source": [
    "Probamos developer:"
   ]
  },
  {
   "cell_type": "code",
   "execution_count": 4,
   "metadata": {},
   "outputs": [
    {
     "data": {
      "text/plain": [
       "[{'Año': '2008', 'Cantidad de items': 1, 'Contenido free': '0.0%'},\n",
       " {'Año': '2010', 'Cantidad de items': 1, 'Contenido free': '0.0%'},\n",
       " {'Año': '2011', 'Cantidad de items': 4, 'Contenido free': '0.0%'},\n",
       " {'Año': '2012', 'Cantidad de items': 1, 'Contenido free': '0.0%'},\n",
       " {'Año': '2013', 'Cantidad de items': 28, 'Contenido free': '0.0%'},\n",
       " {'Año': '2014', 'Cantidad de items': 8, 'Contenido free': '0.0%'},\n",
       " {'Año': '2015', 'Cantidad de items': 6, 'Contenido free': '0.0%'},\n",
       " {'Año': '2016', 'Cantidad de items': 4, 'Contenido free': '0.0%'},\n",
       " {'Año': '2017', 'Cantidad de items': 4, 'Contenido free': '0.0%'},\n",
       " {'Año': 'Unknown', 'Cantidad de items': 1, 'Contenido free': '0.0%'}]"
      ]
     },
     "execution_count": 4,
     "metadata": {},
     "output_type": "execute_result"
    }
   ],
   "source": [
    "developer(\"Treyarch\")"
   ]
  },
  {
   "cell_type": "markdown",
   "metadata": {},
   "source": [
    "----------------------------------------------"
   ]
  },
  {
   "cell_type": "markdown",
   "metadata": {},
   "source": [
    "# Función UserForGenre"
   ]
  },
  {
   "cell_type": "code",
   "execution_count": 5,
   "metadata": {},
   "outputs": [],
   "source": [
    "def UserForGenre(genero: str):\n",
    "    # Verificamos si el género está presente en los datos disponibles\n",
    "    if genero not in steam_games_final['genres'].unique():\n",
    "        return \"El género ingresado no está disponible en Steam.\"\n",
    "    \n",
    "    # Realizamos el merge de los dataframes correspondiente\n",
    "    df_merge = pd.merge(user_items_final, steam_games_final, on=\"item_id\", how=\"inner\")\n",
    "    \n",
    "    # Filtramos los datos por el género y los años disponibles\n",
    "    df_filtered = df_merge[(df_merge['genres'] == genero) & (df_merge['release_year'] != 'Unknown')]\n",
    "    \n",
    "    # Verificamos si no hay datos para el género en los años disponibles, en tal caso retornamos un mensaje\n",
    "    if df_filtered.empty:\n",
    "        return f\"No hay datos para el género {genero} en los años disponibles.\"\n",
    "\n",
    "    # Calculamos las horas jugadas en vase a los segundos de la columna 'playtime_forever' creando una nueva columna\n",
    "    df_filtered[\"playtime_hours\"] = (df_filtered[\"playtime_forever\"] / 3600).round(2)\n",
    "    \n",
    "    # Agrupamos por usuario y calculamos la suma de horas jugadas de la columna nueva 'playtime_hours'\n",
    "    df_grouped = df_filtered.groupby(\"user_id\")['playtime_hours'].sum().reset_index()\n",
    "    \n",
    "    # Encuentramos al usuario con más horas jugadas\n",
    "    max_hours_user = df_grouped.loc[df_grouped['playtime_hours'].idxmax(), 'user_id']\n",
    "    \n",
    "    # Agrupamos por año y calculamos la suma de horas jugadas por año\n",
    "    df_grouped_years = df_filtered.groupby(\"release_year\")[\"playtime_hours\"].sum().reset_index()\n",
    "    \n",
    "    # Conviertimos los datos agrupados por año en un diccionario\n",
    "    list_of_dictionary = df_grouped_years.to_dict(orient=\"records\")\n",
    "\n",
    "    # Retornamos finalmente un diccionario con el usuario con más horas jugadas y las horas jugadas por año\n",
    "    return {f\"Usuario con más horas jugadas para Género {genero}\": max_hours_user, \"Horas jugadas por año\": list_of_dictionary}\n",
    "\n"
   ]
  },
  {
   "cell_type": "markdown",
   "metadata": {},
   "source": [
    "Probamos UserForGenre:"
   ]
  },
  {
   "cell_type": "code",
   "execution_count": 6,
   "metadata": {},
   "outputs": [
    {
     "name": "stderr",
     "output_type": "stream",
     "text": [
      "C:\\Users\\patri\\AppData\\Local\\Temp\\ipykernel_13792\\3838551150.py:17: SettingWithCopyWarning: \n",
      "A value is trying to be set on a copy of a slice from a DataFrame.\n",
      "Try using .loc[row_indexer,col_indexer] = value instead\n",
      "\n",
      "See the caveats in the documentation: https://pandas.pydata.org/pandas-docs/stable/user_guide/indexing.html#returning-a-view-versus-a-copy\n",
      "  df_filtered[\"playtime_hours\"] = (df_filtered[\"playtime_forever\"] / 3600).round(2)\n"
     ]
    },
    {
     "data": {
      "text/plain": [
       "{'Usuario con más horas jugadas para Género Casual': 'REBAS_AS_F-T',\n",
       " 'Horas jugadas por año': [{'release_year': '1983', 'playtime_hours': 0.93},\n",
       "  {'release_year': '1984', 'playtime_hours': 0.09},\n",
       "  {'release_year': '1991', 'playtime_hours': 0.38},\n",
       "  {'release_year': '1992', 'playtime_hours': 0.6699999999999999},\n",
       "  {'release_year': '1993', 'playtime_hours': 6.09},\n",
       "  {'release_year': '1994', 'playtime_hours': 12.72},\n",
       "  {'release_year': '1995', 'playtime_hours': 0.98},\n",
       "  {'release_year': '1996', 'playtime_hours': 8.46},\n",
       "  {'release_year': '1997', 'playtime_hours': 8.95},\n",
       "  {'release_year': '1998', 'playtime_hours': 3.52},\n",
       "  {'release_year': '1999', 'playtime_hours': 174.97},\n",
       "  {'release_year': '2000', 'playtime_hours': 14.72},\n",
       "  {'release_year': '2001', 'playtime_hours': 1.71},\n",
       "  {'release_year': '2002', 'playtime_hours': 16.79},\n",
       "  {'release_year': '2003', 'playtime_hours': 0.81},\n",
       "  {'release_year': '2004', 'playtime_hours': 6.66},\n",
       "  {'release_year': '2005', 'playtime_hours': 11.200000000000001},\n",
       "  {'release_year': '2006', 'playtime_hours': 65.18},\n",
       "  {'release_year': '2007', 'playtime_hours': 199.27},\n",
       "  {'release_year': '2008', 'playtime_hours': 155.31},\n",
       "  {'release_year': '2009', 'playtime_hours': 240.03},\n",
       "  {'release_year': '2010', 'playtime_hours': 782.53},\n",
       "  {'release_year': '2011', 'playtime_hours': 1124.82},\n",
       "  {'release_year': '2012', 'playtime_hours': 5650.05},\n",
       "  {'release_year': '2013', 'playtime_hours': 3554.35},\n",
       "  {'release_year': '2014', 'playtime_hours': 6127.42},\n",
       "  {'release_year': '2015', 'playtime_hours': 21824.62},\n",
       "  {'release_year': '2016', 'playtime_hours': 12134.21},\n",
       "  {'release_year': '2017', 'playtime_hours': 14140.34}]}"
      ]
     },
     "execution_count": 6,
     "metadata": {},
     "output_type": "execute_result"
    }
   ],
   "source": [
    "UserForGenre('Casual')"
   ]
  },
  {
   "cell_type": "markdown",
   "metadata": {},
   "source": [
    "-----------------------------"
   ]
  },
  {
   "cell_type": "markdown",
   "metadata": {},
   "source": [
    "# Función sentiment_analysis"
   ]
  },
  {
   "cell_type": "code",
   "execution_count": 7,
   "metadata": {},
   "outputs": [],
   "source": [
    "def sentiment_analysis(empresa_desarrolladora: str):\n",
    "    \"\"\"Devuelve un diccionario con el nombre de la desarrolladora como llave y una lista con la cantidad total de registros de reseñas de usuarios que se encuentren categorizados con un análisis de sentimiento positivo o negativo como valor. Recibe como parametro la empresa desarrolladora de tipo str\"\"\"\n",
    "    unique_developers = steam_games_final['developer'].dropna().unique()\n",
    "\n",
    "        # Verificamos si el parametro es string y si se encuentra dentro de los 'developer' existentes \n",
    "    if isinstance(empresa_desarrolladora, str) and empresa_desarrolladora in unique_developers:\n",
    "        # Filtrarmos el DF user_reviews_final por el 'item_id' de los juegos de la empresa desarrolladora(developer)\n",
    "        df_filtered = user_reviews_final[user_reviews_final['item_id'].isin(steam_games_final.loc[steam_games_final['developer'] == empresa_desarrolladora, 'item_id'])]\n",
    "\n",
    "        # Contamos la cantidad de registros por análisis de sentimiento convirtiendolo en diccionario\n",
    "        sentiment_counts = df_filtered['sentiment_analysis'].value_counts().to_dict()\n",
    "\n",
    "        # Obtenemos la cantidad de registros positivos y negativos\n",
    "        positive_count = sentiment_counts.get(2)\n",
    "        negative_count = sentiment_counts.get(0)\n",
    "\n",
    "        result = {empresa_desarrolladora: [f\"Negative: {negative_count}\", f\"Positive: {positive_count}\"]}\n",
    "        return result\n",
    "    else:\n",
    "        return f\"El valor del parámetro debe ser str y el desarrollador debe ser alguno de los desarrolladores disponibles en Steam. Los desarrolladores disponibles son: {', '.join(unique_developers)}\"\n"
   ]
  },
  {
   "cell_type": "markdown",
   "metadata": {},
   "source": [
    "Probamos sentiment_analysis:"
   ]
  },
  {
   "cell_type": "code",
   "execution_count": 8,
   "metadata": {},
   "outputs": [
    {
     "data": {
      "text/plain": [
       "{'Tamationgames': ['Negative: 1', 'Positive: None']}"
      ]
     },
     "execution_count": 8,
     "metadata": {},
     "output_type": "execute_result"
    }
   ],
   "source": [
    "# Probamos\n",
    "sentiment_analysis(\"Tamationgames\")"
   ]
  },
  {
   "cell_type": "markdown",
   "metadata": {},
   "source": [
    "-------------------------"
   ]
  },
  {
   "cell_type": "markdown",
   "metadata": {},
   "source": [
    "## Función game_recommendation:"
   ]
  },
  {
   "cell_type": "code",
   "execution_count": 9,
   "metadata": {},
   "outputs": [],
   "source": [
    "\n",
    "\n",
    "def game_recommendation(id_producto: int):\n",
    "    \"\"\"Esta función recibe como parámetro la ID de un juego y devuelve 5 juegos aleatorios recomendables si encuentra la ID en el sistema, y 5 juegos aleatorios si no la encuentra. Recibe un valor entero.\"\"\"\n",
    "\n",
    "        # Verificamos si el parametro es de tipo entero(int)\n",
    "    if isinstance(id_producto, int):\n",
    "        # Realizamos las filtraciones y creamos una nueva columna 'is_recommend'\n",
    "        df_merge = pd.merge(user_reviews_final, steam_games_final, on=\"item_id\", how=\"inner\")\n",
    "        df_merge[\"is_recommend\"] = ((df_merge[\"recommend\"]) & (df_merge[\"sentiment_analysis\"] == 2))\n",
    "        \n",
    "        df_recommend = df_merge[(df_merge[\"item_id\"] != id_producto) & (df_merge['genres'].isin(df_merge['genres'][df_merge['item_id'] == id_producto])) & (df_merge[\"is_recommend\"] == 1)]\n",
    "        \n",
    "        # Verificamos que no este vacio el DF filtrado y en ese caso devolvemos recomendaciones aleatorias\n",
    "        if not df_recommend.empty:\n",
    "            sampled_recommend = random.sample(df_recommend[\"item_name\"].tolist(), min(5, len(df_recommend)))\n",
    "            return {\"Los juegos recomendados son\": sampled_recommend}\n",
    "        \n",
    "        else:\n",
    "            # Por el contrario obtenemos juegos aleatorios si no hay recomendaciones\n",
    "            games = df_merge[\"item_name\"].unique()\n",
    "            sampled_games = random.sample(games.tolist(), min(5, len(games)))\n",
    "            return {\"El item_id del juego no se encuentra en la base de datos o no hay juegos recomendados. Se mostrarán juegos aleatorios\": sampled_games}    \n",
    "\n",
    "    else:\n",
    "        return \"El ID debe ser un tipo de dato entero.\"\n"
   ]
  },
  {
   "cell_type": "markdown",
   "metadata": {},
   "source": [
    "Probamos game_recommendation:"
   ]
  },
  {
   "cell_type": "code",
   "execution_count": 10,
   "metadata": {},
   "outputs": [
    {
     "data": {
      "text/plain": [
       "{'Los juegos recomendados son': ['Warframe',\n",
       "  'EDGE',\n",
       "  'Call of Duty®: Black Ops II',\n",
       "  'Realm of the Mad God',\n",
       "  'Team Fortress 2']}"
      ]
     },
     "execution_count": 10,
     "metadata": {},
     "output_type": "execute_result"
    }
   ],
   "source": [
    "game_recommendation(10)"
   ]
  },
  {
   "cell_type": "markdown",
   "metadata": {},
   "source": [
    "--------------------------------------\n"
   ]
  },
  {
   "cell_type": "markdown",
   "metadata": {},
   "source": [
    "## Función best_developer_year"
   ]
  },
  {
   "cell_type": "code",
   "execution_count": 11,
   "metadata": {},
   "outputs": [],
   "source": [
    "def best_developer_year(año: str):\n",
    "    \"\"\"Esta funcion devuelve el top 3 de desarrolladoras con juegos mas recomendados por usuarios para el año dado. Recibe como parametro el año en string\"\"\"\n",
    "    \n",
    "    # Verificamos si el parametros años no esta presente en la columna 'release_year'\n",
    "    if año not in steam_games_final['release_year'].unique():\n",
    "        return f\"El año {año} no está disponible en Steam o no es válido.\"\n",
    "\n",
    "    # Realizamos el merge de los df correspondientes y filtramos\n",
    "    df_merge = pd.merge(user_reviews_final, steam_games_final, on=\"item_id\", how=\"inner\")\n",
    "    df_merge = df_merge.drop_duplicates(subset=['user_id', 'item_id'], keep='first')\n",
    "    df_filtered = df_merge[(df_merge[\"release_year\"] == año) & (df_merge[\"recommend\"] == True) & (df_merge[\"sentiment_analysis\"] == 2)]\n",
    "\n",
    "    # Verificamos que no esta vacio y en caso de estarlo retornamos mensaje\n",
    "    if df_filtered.empty:\n",
    "        return f\"No hay datos para el año {año} con las condiciones especificadas.\"\n",
    "\n",
    "    # Agrupamos por desarrollador (developer) y calculamos la cantidad de registros\n",
    "    df_size_rows = df_filtered.groupby('developer').size().nlargest(3).reset_index(name='number_rows')\n",
    "    result = [{\"Puesto \" + str(i + 1): row[\"developer\"]} for i, row in df_size_rows.iterrows()]\n",
    "    return result\n"
   ]
  },
  {
   "cell_type": "markdown",
   "metadata": {},
   "source": [
    "Probamos best_developer_year:"
   ]
  },
  {
   "cell_type": "code",
   "execution_count": 12,
   "metadata": {},
   "outputs": [
    {
     "data": {
      "text/plain": [
       "[{'Puesto 1': 'Smartly Dressed Games'},\n",
       " {'Puesto 2': 'Freejam'},\n",
       " {'Puesto 3': 'Studio Wildcard,Instinct Games,Efecto Studios,Virtual Basement LLC'}]"
      ]
     },
     "execution_count": 12,
     "metadata": {},
     "output_type": "execute_result"
    }
   ],
   "source": [
    "best_developer_year('2017')"
   ]
  }
 ],
 "metadata": {
  "kernelspec": {
   "display_name": "Python 3",
   "language": "python",
   "name": "python3"
  },
  "language_info": {
   "codemirror_mode": {
    "name": "ipython",
    "version": 3
   },
   "file_extension": ".py",
   "mimetype": "text/x-python",
   "name": "python",
   "nbconvert_exporter": "python",
   "pygments_lexer": "ipython3",
   "version": "3.12.2"
  }
 },
 "nbformat": 4,
 "nbformat_minor": 2
}
